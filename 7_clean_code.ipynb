{
 "cells": [
  {
   "attachments": {},
   "cell_type": "markdown",
   "metadata": {},
   "source": [
    "# SRP(Single Responsibility Principle, 단일 책임 원칙)\n",
    "- 하나의 클래스는 하나의 책임만 가지도록 한다."
   ]
  },
  {
   "cell_type": "code",
   "execution_count": 1,
   "metadata": {},
   "outputs": [],
   "source": [
    "# Store가 많은 역할을 혼자서 수행\n",
    "class Store:\n",
    "    def communicate_user(self):\n",
    "        ...\n",
    "    def manage_products(self):\n",
    "        ...\n",
    "    def manage_money(self):\n",
    "        ..."
   ]
  },
  {
   "cell_type": "code",
   "execution_count": 2,
   "metadata": {},
   "outputs": [],
   "source": [
    "# 책임을 나눠서 Manger 클래스에게 책임 전가\n",
    "\n",
    "class CounterManager:\n",
    "    def communicate_user(self):\n",
    "        ...\n",
    "\n",
    "class ProductManager:\n",
    "    def manage_products(self):\n",
    "        ...\n",
    "\n",
    "class Owner:\n",
    "    def manage_money(self):\n",
    "        ...\n",
    "\n",
    "class Store:\n",
    "    def __init__(self, counter_manager: CounterManager, product_manager: ProductManager, owner: Owner):\n",
    "        self.counter_manager = counter_manager\n",
    "        self.product_manager = product_manager\n",
    "        self.owner = owner\n",
    "\n",
    "    def sell_product(self):\n",
    "        self.counter_manager.communicate_user()\n",
    "        ...\n",
    "    def manage_products(self):\n",
    "        ..."
   ]
  },
  {
   "attachments": {},
   "cell_type": "markdown",
   "metadata": {},
   "source": [
    "# 응집도\n",
    "- 응집도는 클래스의 변수와 메서드들이 얼마나 유기적으로 엮여있냐를 나타내는 지표이다.\n",
    "    - 응집도가 높을수록 클래스의 메서드들은 인스턴스 변수들을 많이 사용한다.\n",
    "    - 응집도가 낮을수록 클래스의 메서드들은 인스턴스 변수들을 적게 혹은 사용하지 않는다."
   ]
  },
  {
   "cell_type": "code",
   "execution_count": 3,
   "metadata": {},
   "outputs": [],
   "source": [
    "class LowCohesion:\n",
    "    def __init__(self):\n",
    "        self.a = ...\n",
    "        self.b = ...\n",
    "        self.c = ...\n",
    "\n",
    "    def process_a(self):\n",
    "        print(self.a)\n",
    "\n",
    "    def process_b(self):\n",
    "        print(self.b)\n",
    "\n",
    "    def process_c(self):\n",
    "        print(self.c)"
   ]
  },
  {
   "cell_type": "code",
   "execution_count": 4,
   "metadata": {},
   "outputs": [],
   "source": [
    "class HighCohesion:\n",
    "    def __init__(self):\n",
    "        self.abc = ...\n",
    "\n",
    "    def process_a(self):\n",
    "        self.abc.process_a()\n",
    "\n",
    "    def process_b(self):\n",
    "        self.abc.process_b()\n",
    "\n",
    "    def process_c(self):\n",
    "        self.abc.process_c()"
   ]
  },
  {
   "attachments": {},
   "cell_type": "markdown",
   "metadata": {},
   "source": [
    "# 변경하기 용이하게\n",
    "- 새 기능을 수정하거나 기존 기능을 변경할 때, 코드의 변경을 최소화하는 게 중요하다.\n",
    "- 일반적으로 클래스(객체)는 구현(Concrete)과 추상(Abstract)으로 나뉘게 된다.\n",
    "- 구현에는 실제 동작하는 구체적인 코드가, 추상은 인터페이스나 추상 클래스처럼 기능을 개념화한 코드가 들어간다.\n",
    "- 일반적으로 변경하기 쉽게 설계하기 위해선 추상화를 해두고 구체 클래스에 의존하지 않고 추상 클래스(인터페이스)에 의존하도록 코드를 짜는 것이 중요하다."
   ]
  },
  {
   "cell_type": "code",
   "execution_count": 5,
   "metadata": {},
   "outputs": [],
   "source": [
    "class Developer:\n",
    "    def coding(self):\n",
    "        print(\"코딩을 합니다\")\n",
    "\n",
    "class Designer:\n",
    "    def design(self):\n",
    "        print(\"디자인을 합니다\")\n",
    "\n",
    "class Analyst:\n",
    "    def analyze(self):\n",
    "        print(\"분석을 합니다\")\n",
    "\n",
    "class Company:\n",
    "    def __init__(self, employees): #구체 클래스에 의존한다. \n",
    "        self.employees = employees\n",
    "\n",
    "    # employee가 다양해질수록 코드를 계속 변경해야 한다.\n",
    "    def make_work(self):\n",
    "        for employee in self.employees:\n",
    "            if isinstance(employee, Developer):\n",
    "                employee.coding()\n",
    "            elif isinstance(employee, Designer):\n",
    "                employee.design()\n",
    "            elif isinstance(employee, Analyst):\n",
    "                employee.analyze()"
   ]
  },
  {
   "cell_type": "code",
   "execution_count": 9,
   "metadata": {},
   "outputs": [
    {
     "name": "stdout",
     "output_type": "stream",
     "text": [
      "코딩을 합니다\n",
      "코딩을 합니다\n",
      "디자인을 합니다\n",
      "분석을 합니다\n"
     ]
    }
   ],
   "source": [
    "dev1 = Developer()\n",
    "dev2 = Developer()\n",
    "designer1 = Designer()\n",
    "analyst1 = Analyst()\n",
    "\n",
    "company = Company([dev1, dev2, designer1, analyst1])\n",
    "company.make_work()"
   ]
  },
  {
   "cell_type": "code",
   "execution_count": 10,
   "metadata": {},
   "outputs": [
    {
     "ename": "TabError",
     "evalue": "inconsistent use of tabs and spaces in indentation (2471729966.py, line 21)",
     "output_type": "error",
     "traceback": [
      "\u001b[0;36m  Cell \u001b[0;32mIn [10], line 21\u001b[0;36m\u001b[0m\n\u001b[0;31m    print(\"매니징을 합니다\")\u001b[0m\n\u001b[0m                     ^\u001b[0m\n\u001b[0;31mTabError\u001b[0m\u001b[0;31m:\u001b[0m inconsistent use of tabs and spaces in indentation\n"
     ]
    }
   ],
   "source": [
    "class Employee(metaclass=abc.ABCMeta):\n",
    "    @abc.abstractmethod\n",
    "    def work(self):\n",
    "        ...\n",
    "\n",
    "class Developer(Employee):\n",
    "    def work(self):\n",
    "        print(\"코딩을 합니다\")\n",
    "\n",
    "class Designer(Employee):\n",
    "    def work(self):\n",
    "        print(\"디자인을 합니다\")\n",
    "\n",
    "class Analyst(Employee):\n",
    "    def work(self):\n",
    "        print(\"분석을 합니다\")\n",
    "\n",
    "# 상속을 통해 쉽게 구현이 가능함 -> 확장에 열려있다.\n",
    "class Manager(Employee):\n",
    "    def work(self):\n",
    "\t\tprint(\"매니징을 합니다\")\n",
    "\n",
    "class Company:\n",
    "    def __init__(self, employees: List[Employee]): # 추상 클래스에 의존한다.\n",
    "        self.employees = employees\n",
    "\n",
    "    # employee가 늘어나더라도 변경에는 닫혀있다.\n",
    "    def make_work(self):\n",
    "        for employee in self.employees:\n",
    "            employee.work()"
   ]
  },
  {
   "cell_type": "code",
   "execution_count": null,
   "metadata": {},
   "outputs": [],
   "source": []
  }
 ],
 "metadata": {
  "kernelspec": {
   "display_name": "Python 3",
   "language": "python",
   "name": "python3"
  },
  "language_info": {
   "codemirror_mode": {
    "name": "ipython",
    "version": 3
   },
   "file_extension": ".py",
   "mimetype": "text/x-python",
   "name": "python",
   "nbconvert_exporter": "python",
   "pygments_lexer": "ipython3",
   "version": "3.8.9"
  },
  "orig_nbformat": 4,
  "vscode": {
   "interpreter": {
    "hash": "31f2aee4e71d21fbe5cf8b01ff0e069b9275f58929596ceb00d14d90e3e16cd6"
   }
  }
 },
 "nbformat": 4,
 "nbformat_minor": 2
}
